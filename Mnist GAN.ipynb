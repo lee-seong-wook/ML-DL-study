{
  "nbformat": 4,
  "nbformat_minor": 0,
  "metadata": {
    "colab": {
      "provenance": [],
      "gpuType": "T4",
      "authorship_tag": "ABX9TyO2v35rWpjWVpoEXZVNYAg8",
      "include_colab_link": true
    },
    "kernelspec": {
      "name": "python3",
      "display_name": "Python 3"
    },
    "language_info": {
      "name": "python"
    },
    "accelerator": "GPU"
  },
  "cells": [
    {
      "cell_type": "markdown",
      "metadata": {
        "id": "view-in-github",
        "colab_type": "text"
      },
      "source": [
        "<a href=\"https://colab.research.google.com/github/lee-seong-wook/ML-DL-study/blob/main/GAN.ipynb\" target=\"_parent\"><img src=\"https://colab.research.google.com/assets/colab-badge.svg\" alt=\"Open In Colab\"/></a>"
      ]
    },
    {
      "cell_type": "code",
      "execution_count": null,
      "metadata": {
        "id": "3EZPuXHziWrs"
      },
      "outputs": [],
      "source": [
        "from keras.models import Sequential\n",
        "from keras.layers import Dense, LeakyReLU, Reshape, BatchNormalization, UpSampling2D, Conv2D\n",
        "\n",
        "\n",
        "# 생성자 모델 생성\n",
        "generator = Sequential()\n",
        "generator.add(Dense(128*7*7, input_dim=100, activation=LeakyReLU(0.2)))\n",
        "generator.add(BatchNormalization())\n",
        "generator.add(Reshape((7, 7, 128)))\n",
        "generator.add(UpSampling2D())\n",
        "generator.add(Conv2D(64, kernel_size=5, padding='same'))\n",
        "generator.add(BatchNormalization())\n",
        "generator.add(LeakyReLU(0.2))\n",
        "generator.add(UpSampling2D())\n",
        "generator.add(Conv2D(1, kernel_size=5, padding='same', activation='tanh'))\n"
      ]
    },
    {
      "cell_type": "code",
      "source": [
        "from keras.utils.sidecar_evaluator import optimizer\n",
        "from keras.models import Model\n",
        "from keras.layers import Input\n",
        "ginput = Input(shape =(100,))\n",
        "dis_output = discriminator(generator(ginput))\n",
        "gan = Model(ginput, dis_output)\n",
        "gan.compile(loss='binary_crossentropy',optimizer='adam')"
      ],
      "metadata": {
        "id": "bwtf93CXuv85"
      },
      "execution_count": null,
      "outputs": []
    },
    {
      "cell_type": "code",
      "source": [
        "from keras.models import Sequential\n",
        "from keras.layers import Conv2D, LeakyReLU, Dropout, Flatten, Dense, Activation\n",
        "\n",
        "# 판별자 모델 생성\n",
        "discriminator = Sequential()\n",
        "discriminator.add(Conv2D(64, kernel_size=5, strides=2, input_shape=(28, 28, 1), padding=\"same\"))\n",
        "discriminator.add(Activation(LeakyReLU(0.2)))\n",
        "discriminator.add(Dropout(0.3))\n",
        "discriminator.add(Conv2D(128, kernel_size=5, strides=2, padding=\"same\"))\n",
        "discriminator.add(Activation(LeakyReLU(0.2)))\n",
        "discriminator.add(Dropout(0.3))\n",
        "discriminator.add(Flatten())\n",
        "discriminator.add(Dense(1, activation='sigmoid'))\n",
        "discriminator.compile(loss='binary_crossentropy', optimizer='adam')\n",
        "discriminator.trainable = False\n"
      ],
      "metadata": {
        "id": "ji59sauojHQu"
      },
      "execution_count": null,
      "outputs": []
    },
    {
      "cell_type": "code",
      "source": [
        "from keras.datasets import mnist\n",
        "import numpy as np\n",
        "import random\n",
        "import matplotlib.pyplot as plt\n",
        "import os\n",
        "\n",
        "\n",
        "def gan_train(epoch, batch_size, saving_interval):\n",
        "    # MNIST 데이터 불러오기\n",
        "    (X_train, _), (_, _) = mnist.load_data()\n",
        "    X_train = X_train.reshape(X_train.shape[0], 28, 28, 1).astype('float32')\n",
        "    X_train = (X_train - 127.5) / 127.5\n",
        "    true = np.ones((batch_size, 1))\n",
        "    fake = np.zeros((batch_size, 1))\n",
        "\n",
        "    for i in range(epoch):\n",
        "        idx = np.random.randint(0, X_train.shape[0], batch_size)\n",
        "        imgs = X_train[idx]\n",
        "        d_loss_real = discriminator.train_on_batch(imgs, true)\n",
        "\n",
        "        noise = np.random.normal(0, 1, (batch_size, 100))\n",
        "        gen_imgs = generator.predict(noise)\n",
        "        d_loss_fake = discriminator.train_on_batch(gen_imgs, fake)\n",
        "        d_loss = 0.5 * np.add(d_loss_real, d_loss_fake)\n",
        "        g_loss = gan.train_on_batch(noise, true)\n",
        "        print('epoch:%d' % i, ' d_loss:%.4f' % d_loss, ' g_loss:%.4f' % g_loss)\n",
        "        if i % saving_interval == 0:\n",
        "            # 디렉토리 이름 지정\n",
        "            output_directory = 'my_generated_images'\n",
        "            # 디렉토리 생성\n",
        "            if not os.path.exists(output_directory):\n",
        "                os.makedirs(output_directory)\n",
        "\n",
        "        if i % saving_interval == 0:\n",
        "            noise = np.random.normal(0, 1, (25, 100))\n",
        "            gen_imgs = generator.predict(noise)\n",
        "            gen_imgs = 0.5 * gen_imgs + 0.5\n",
        "            fig, axs = plt.subplots(5, 5)\n",
        "            count = 0\n",
        "            for j in range(5):\n",
        "                for k in range(5):\n",
        "                    axs[j, k].imshow(gen_imgs[count, :, :, 0], cmap='gray')\n",
        "                    axs[j, k].axis('off')\n",
        "                    count += 1\n",
        "            fig.savefig(\"gan_images/gan_mnist_%d.png\" % i)\n",
        "\n",
        "gan_train(4001, 32, 200)\n"
      ],
      "metadata": {
        "id": "GEIsYkbNvi27"
      },
      "execution_count": null,
      "outputs": []
    },
    {
      "cell_type": "markdown",
      "source": [
        "[링크 텍스트](https://)"
      ],
      "metadata": {
        "id": "heUmsQb8v3Kb"
      }
    }
  ]
}
